{
 "cells": [
  {
   "cell_type": "code",
   "execution_count": 13,
   "id": "4d8d539e",
   "metadata": {},
   "outputs": [],
   "source": [
    "import sqlite3\n",
    "import csv\n",
    "import os"
   ]
  },
  {
   "cell_type": "code",
   "execution_count": 14,
   "id": "ac974d4f",
   "metadata": {},
   "outputs": [],
   "source": [
    "# Define the database file path (inside the \"Resources\" folder)\n",
    "db_path = os.path.join('Resources', 'ww_cigarette_database.db')"
   ]
  },
  {
   "cell_type": "code",
   "execution_count": 15,
   "id": "9567ec44",
   "metadata": {},
   "outputs": [],
   "source": [
    "# Connect to the SQLite database (or create it if it doesn't exist)\n",
    "conn = sqlite3.connect(db_path)\n",
    "cursor = conn.cursor()"
   ]
  },
  {
   "cell_type": "code",
   "execution_count": 16,
   "id": "da09b694",
   "metadata": {},
   "outputs": [],
   "source": [
    " table_schemas = {\n",
    "     'coordinates_2000_cleaned': '''\n",
    "        CREATE TABLE IF NOT EXISTS coordinates_2000_cleaned (\n",
    "            CountryName VARCHAR PRIMARY KEY UNIQUE,\n",
    "            Year INTEGER,\n",
    "            AverageCigarettesSmokedPerDayBySmoker FLOAT,\n",
    "            PercentageOfSmokersInMalePopulation FLOAT,\n",
    "            PercentageOfSmokersInFemalePopulation FLOAT,\n",
    "            PercentageOfSmokersInPopulation FLOAT,\n",
    "            TotalNumberOfSmokers INTEGER,\n",
    "            TotalNumberOfFemaleSmokers INTEGER,\n",
    "            TotalNumberOfMaleSmokers INTEGER,\n",
    "            Coordinates FLOAT\n",
    "        )\n",
    "    ''',\n",
    "     'coordinates_2012_cleaned': '''\n",
    "        CREATE TABLE IF NOT EXISTS coordinates_2012_cleaned (\n",
    "            CountryName VARCHAR PRIMARY KEY UNIQUE,\n",
    "            Year INTEGER,\n",
    "            AverageCigarettesSmokedPerDayBySmoker FLOAT,\n",
    "            PercentageOfSmokersInMalePopulation FLOAT,\n",
    "            PercentageOfSmokersInFemalePopulation FLOAT,\n",
    "            PercentageOfSmokersInPopulation FLOAT,\n",
    "            TotalNumberOfSmokers INTEGER,\n",
    "            TotalNumberOfFemaleSmokers INTEGER,\n",
    "            TotalNumberOfMaleSmokers INTEGER,\n",
    "            Coordinates FLOAT\n",
    "        )\n",
    "    ''',\n",
    "     'combined_data': '''\n",
    "        CREATE TABLE IF NOT EXISTS combined_data (\n",
    "            Country_id INTEGER PRIMARY KEY,\n",
    "            CountryName VARCHAR,\n",
    "            Year INTEGER,\n",
    "            AverageCigarettesSmokedPerDayBySmoker FLOAT,\n",
    "            PercentageOfSmokersInMalePopulation FLOAT,\n",
    "            PercentageOfSmokersInFemalePopulation FLOAT,\n",
    "            PercentageOfSmokersInPopulation FLOAT,\n",
    "            TotalNumberOfSmokers INTEGER,\n",
    "            TotalNumberOfFemaleSmokers INTEGER,\n",
    "            TotalNumberOfMaleSmokers INTEGER,\n",
    "            GDPPerCapita FLOAT,\n",
    "            Unemployment FLOAT,\n",
    "            HealthExpenditure FLOAT\n",
    "         )\n",
    "    '''\n",
    "}\n",
    "for table_name, schema in table_schemas.items():\n",
    "    cursor.execute(schema)\n",
    "\n",
    "conn.commit()\n"
   ]
  },
  {
   "cell_type": "code",
   "execution_count": 17,
   "id": "4bf1b457",
   "metadata": {},
   "outputs": [],
   "source": [
    "# Specify the folder where your CSV files are located\n",
    "csv_folder = 'Resources'"
   ]
  },
  {
   "cell_type": "code",
   "execution_count": 18,
   "id": "c0404d2b",
   "metadata": {},
   "outputs": [],
   "source": [
    "# Read and insert data from CSV files (assuming all CSV files are in \"Resources\")\n",
    "csv_files = [\n",
    "    'coordinates_2000_cleaned.csv',\n",
    "    'coordinates_2012_cleaned.csv',\n",
    "    'combined_data.csv',\n",
    "]\n",
    "\n",
    "for csv_file in csv_files:\n",
    "    table_name = os.path.splitext(csv_file)[0]  # Get table name from CSV file name\n",
    "    csv_path = os.path.join(csv_folder, csv_file)  # Create the full file path\n",
    "    with open(csv_path, 'r') as csv_file:\n",
    "        csv_reader = csv.reader(csv_file)\n",
    "        next(csv_reader)  # Skip the header row if it exists\n",
    "\n",
    "        for row in csv_reader:\n",
    "            # Construct the INSERT statement dynamically based on the table schema\n",
    "            placeholders = ', '.join(['?'] * len(row))\n",
    "            insert_sql = f'INSERT INTO \"{table_name}\" VALUES ({placeholders})'\n",
    "            cursor.execute(insert_sql, row)"
   ]
  },
  {
   "cell_type": "code",
   "execution_count": 19,
   "id": "45db2093",
   "metadata": {},
   "outputs": [
    {
     "name": "stdout",
     "output_type": "stream",
     "text": [
      "coordinates_2000_cleaned\n",
      "coordinates_2012_cleaned\n",
      "combined_data\n"
     ]
    }
   ],
   "source": [
    "#CHECK NUMBER OF CSV FILE\n",
    "cursor.execute(\"SELECT name FROM sqlite_master WHERE type='table';\")\n",
    "\n",
    "tables = cursor.fetchall()\n",
    "for table in tables:\n",
    "    print(table[0])"
   ]
  },
  {
   "cell_type": "code",
   "execution_count": 20,
   "id": "9e32b0fb",
   "metadata": {},
   "outputs": [],
   "source": [
    "# Replace these with your file paths\n",
    "db_file = 'Resources/ww_cigarette_database.db'        \n",
    "sqlite_file = 'Resources/ww_cigarette_database.sqlite' "
   ]
  },
  {
   "cell_type": "code",
   "execution_count": 21,
   "id": "8d4cfc63",
   "metadata": {},
   "outputs": [],
   "source": [
    "# Connect to the SQLite database\n",
    "#conn = sqlite3.connect(sqlite_file)\n",
    "#cursor = conn.cursor()"
   ]
  },
  {
   "cell_type": "code",
   "execution_count": 22,
   "id": "824213fa",
   "metadata": {},
   "outputs": [],
   "source": [
    "# Read data from the .db file\n",
    "with open(db_file, 'rb') as db_file:\n",
    "    db_data = db_file.read()"
   ]
  },
  {
   "cell_type": "code",
   "execution_count": 23,
   "id": "75753175",
   "metadata": {},
   "outputs": [],
   "source": [
    "# Write data to the .sqlite file\n",
    "with open(sqlite_file, 'wb') as sqlite_file:\n",
    "    sqlite_file.write(db_data)"
   ]
  },
  {
   "cell_type": "code",
   "execution_count": 24,
   "id": "1652f8b3",
   "metadata": {},
   "outputs": [],
   "source": [
    "# Commit changes and close the connection\n",
    "conn.commit()\n",
    "conn.close()\n",
    "\n",
    "#print(\"Database created and data inserted successfully.\")"
   ]
  },
  {
   "cell_type": "code",
   "execution_count": null,
   "id": "b165998c",
   "metadata": {},
   "outputs": [],
   "source": []
  }
 ],
 "metadata": {
  "kernelspec": {
   "display_name": "Python 3 (ipykernel)",
   "language": "python",
   "name": "python3"
  },
  "language_info": {
   "codemirror_mode": {
    "name": "ipython",
    "version": 3
   },
   "file_extension": ".py",
   "mimetype": "text/x-python",
   "name": "python",
   "nbconvert_exporter": "python",
   "pygments_lexer": "ipython3",
   "version": "3.10.11"
  }
 },
 "nbformat": 4,
 "nbformat_minor": 5
}
